{
 "cells": [
  {
   "cell_type": "code",
   "execution_count": 2,
   "metadata": {},
   "outputs": [],
   "source": [
    "from pptx import Presentation\n",
    "\n",
    "# Load the presentation\n",
    "presentation = Presentation('change_pg.pptx')"
   ]
  },
  {
   "cell_type": "code",
   "execution_count": 3,
   "metadata": {},
   "outputs": [],
   "source": [
    "for slide in presentation.slides:\n",
    "    for shape in slide.shapes:\n",
    "        if shape.has_table:\n",
    "            table = shape.table"
   ]
  },
  {
   "cell_type": "code",
   "execution_count": null,
   "metadata": {},
   "outputs": [],
   "source": [
    "table_data = []\n",
    "for row in table.rows:\n",
    "    row_data = []\n",
    "    for cell in row.cells:\n",
    "        row_data.append(cell.text)\n",
    "    table_data.append(row_data)\n"
   ]
  }
 ],
 "metadata": {
  "kernelspec": {
   "display_name": "pts_venv",
   "language": "python",
   "name": "python3"
  },
  "language_info": {
   "codemirror_mode": {
    "name": "ipython",
    "version": 3
   },
   "file_extension": ".py",
   "mimetype": "text/x-python",
   "name": "python",
   "nbconvert_exporter": "python",
   "pygments_lexer": "ipython3",
   "version": "3.11.1"
  },
  "orig_nbformat": 4
 },
 "nbformat": 4,
 "nbformat_minor": 2
}
