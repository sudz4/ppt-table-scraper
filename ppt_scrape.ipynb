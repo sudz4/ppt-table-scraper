{
 "cells": [
  {
   "cell_type": "code",
   "execution_count": 2,
   "metadata": {},
   "outputs": [],
   "source": [
    "from pptx import Presentation\n",
    "\n",
    "# Load the presentation\n",
    "presentation = Presentation('change_pg.pptx')"
   ]
  },
  {
   "cell_type": "code",
   "execution_count": 3,
   "metadata": {},
   "outputs": [],
   "source": [
    "for slide in presentation.slides:\n",
    "    for shape in slide.shapes:\n",
    "        if shape.has_table:\n",
    "            table = shape.table"
   ]
  },
  {
   "cell_type": "code",
   "execution_count": 4,
   "metadata": {},
   "outputs": [],
   "source": [
    "table_data = []\n",
    "for row in table.rows:\n",
    "    row_data = []\n",
    "    for cell in row.cells:\n",
    "        row_data.append(cell.text)\n",
    "    table_data.append(row_data)\n"
   ]
  },
  {
   "cell_type": "code",
   "execution_count": 5,
   "metadata": {},
   "outputs": [
    {
     "data": {
      "text/html": [
       "<div>\n",
       "<style scoped>\n",
       "    .dataframe tbody tr th:only-of-type {\n",
       "        vertical-align: middle;\n",
       "    }\n",
       "\n",
       "    .dataframe tbody tr th {\n",
       "        vertical-align: top;\n",
       "    }\n",
       "\n",
       "    .dataframe thead th {\n",
       "        text-align: right;\n",
       "    }\n",
       "</style>\n",
       "<table border=\"1\" class=\"dataframe\">\n",
       "  <thead>\n",
       "    <tr style=\"text-align: right;\">\n",
       "      <th></th>\n",
       "      <th>0</th>\n",
       "      <th>1</th>\n",
       "    </tr>\n",
       "  </thead>\n",
       "  <tbody>\n",
       "    <tr>\n",
       "      <th>0</th>\n",
       "      <td>Recommended Metric</td>\n",
       "      <td>Measure</td>\n",
       "    </tr>\n",
       "    <tr>\n",
       "      <th>1</th>\n",
       "      <td>Percentage of standard Changes</td>\n",
       "      <td>Measure of process efficiency. The higher tota...</td>\n",
       "    </tr>\n",
       "    <tr>\n",
       "      <th>2</th>\n",
       "      <td>Average time from submission to Scheduled state</td>\n",
       "      <td>Measure of process efficiency. The shorter the...</td>\n",
       "    </tr>\n",
       "    <tr>\n",
       "      <th>3</th>\n",
       "      <td>Percentage of unsuccessful Changes</td>\n",
       "      <td>Measure of the effectiveness of the Change Man...</td>\n",
       "    </tr>\n",
       "    <tr>\n",
       "      <th>4</th>\n",
       "      <td>Percentage of Changes that caused incidents</td>\n",
       "      <td>Measure of the negative impact to IT service q...</td>\n",
       "    </tr>\n",
       "  </tbody>\n",
       "</table>\n",
       "</div>"
      ],
      "text/plain": [
       "                                                 0  \\\n",
       "0                               Recommended Metric   \n",
       "1                   Percentage of standard Changes   \n",
       "2  Average time from submission to Scheduled state   \n",
       "3               Percentage of unsuccessful Changes   \n",
       "4      Percentage of Changes that caused incidents   \n",
       "\n",
       "                                                   1  \n",
       "0                                            Measure  \n",
       "1  Measure of process efficiency. The higher tota...  \n",
       "2  Measure of process efficiency. The shorter the...  \n",
       "3  Measure of the effectiveness of the Change Man...  \n",
       "4  Measure of the negative impact to IT service q...  "
      ]
     },
     "execution_count": 5,
     "metadata": {},
     "output_type": "execute_result"
    }
   ],
   "source": [
    "import pandas as pd\n",
    "\n",
    "df = pd.DataFrame(table_data)\n",
    "\n",
    "df"
   ]
  }
 ],
 "metadata": {
  "kernelspec": {
   "display_name": "pts_venv",
   "language": "python",
   "name": "python3"
  },
  "language_info": {
   "codemirror_mode": {
    "name": "ipython",
    "version": 3
   },
   "file_extension": ".py",
   "mimetype": "text/x-python",
   "name": "python",
   "nbconvert_exporter": "python",
   "pygments_lexer": "ipython3",
   "version": "3.11.1"
  },
  "orig_nbformat": 4
 },
 "nbformat": 4,
 "nbformat_minor": 2
}
